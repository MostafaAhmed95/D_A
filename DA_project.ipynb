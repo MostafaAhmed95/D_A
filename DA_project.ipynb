{
  "nbformat": 4,
  "nbformat_minor": 0,
  "metadata": {
    "colab": {
      "name": "DA_project",
      "provenance": [],
      "include_colab_link": true
    },
    "kernelspec": {
      "name": "python3",
      "display_name": "Python 3"
    }
  },
  "cells": [
    {
      "cell_type": "markdown",
      "metadata": {
        "id": "view-in-github",
        "colab_type": "text"
      },
      "source": [
        "<a href=\"https://colab.research.google.com/github/MostafaAhmed95/D_A/blob/master/DA_project.ipynb\" target=\"_parent\"><img src=\"https://colab.research.google.com/assets/colab-badge.svg\" alt=\"Open In Colab\"/></a>"
      ]
    },
    {
      "cell_type": "code",
      "metadata": {
        "id": "FxnLbblF1Tu8",
        "colab_type": "code",
        "colab": {}
      },
      "source": [
        "import torch\n",
        "import torch.nn as nn\n",
        "import torch.nn.functional as F\n",
        "import torch.optim as optim\n",
        "from torchvision import datasets, transforms\n",
        "from torch. utils.data import DataLoader\n",
        "import matplotlib.pyplot as plt\n",
        "%matplotlib inline"
      ],
      "execution_count": 0,
      "outputs": []
    },
    {
      "cell_type": "code",
      "metadata": {
        "id": "GRqr-56v184c",
        "colab_type": "code",
        "colab": {
          "base_uri": "https://localhost:8080/",
          "height": 93
        },
        "outputId": "6e08b1b8-0eca-4596-d908-2fff61fe5c40"
      },
      "source": [
        "batch_size = 32\n",
        "test_batch_size = 100\n",
        "\n",
        "# Transformations\n",
        "data_transformations = transforms.Compose([\n",
        "                           transforms.Grayscale(num_output_channels=1),\n",
        "                           transforms.Scale((28,28)),\n",
        "                           transforms.ToTensor(),\n",
        "                           transforms.Normalize((0.1307,), (0.3081,))\n",
        "                       ])\n",
        "\n",
        "# Data Source\n",
        "svhn = datasets.SVHN('../data', download=True, transform=data_transformations)\n",
        "mnist_test = datasets.MNIST('../data', train=False,transform=data_transformations, download=True)\n",
        "\n",
        "\n",
        "# Data loaders\n",
        "train_loader = DataLoader(svhn,\n",
        "                          batch_size=batch_size, shuffle=True)\n",
        "test_loader = DataLoader(mnist_test,\n",
        "                         batch_size=test_batch_size, shuffle=True)"
      ],
      "execution_count": 22,
      "outputs": [
        {
          "output_type": "stream",
          "text": [
            "/usr/local/lib/python3.6/dist-packages/torchvision/transforms/transforms.py:211: UserWarning: The use of the transforms.Scale transform is deprecated, please use transforms.Resize instead.\n",
            "  \"please use transforms.Resize instead.\")\n"
          ],
          "name": "stderr"
        },
        {
          "output_type": "stream",
          "text": [
            "Using downloaded and verified file: ../data/train_32x32.mat\n"
          ],
          "name": "stdout"
        }
      ]
    },
    {
      "cell_type": "code",
      "metadata": {
        "id": "KY-qNjVpMNC9",
        "colab_type": "code",
        "colab": {
          "base_uri": "https://localhost:8080/",
          "height": 284
        },
        "outputId": "59bb2059-6802-44d4-a248-039195cf9f34"
      },
      "source": [
        "batch,labels = next(iter(train_loader))\n",
        "image = batch[0]\n",
        "np_image = image.data.numpy()\n",
        "print(np_image.shape)\n",
        "plt.imshow(np_image[0],cmap='gray')\n",
        "plt.show()"
      ],
      "execution_count": 23,
      "outputs": [
        {
          "output_type": "stream",
          "text": [
            "(1, 28, 28)\n"
          ],
          "name": "stdout"
        },
        {
          "output_type": "display_data",
          "data": {
            "image/png": "[encoded data removed]",
            "text/plain": [
              "<Figure size 432x288 with 1 Axes>"
            ]
          },
          "metadata": {
            "tags": []
          }
        }
      ]
    },
    {
      "cell_type": "code",
      "metadata": {
        "id": "eqvUmdQVTN3K",
        "colab_type": "code",
        "colab": {}
      },
      "source": [
        "class Net(nn.Module):#This defines the structure of the NN.def __init__(self):super(Net, self).__init__()\n",
        "        # These are all operations that we are defining.# Unlike keras, this is not the network definition.# This is just initialization of the variables that # we are going to use in the `forward()` function.self.conv1 = nn.Conv2d(1, 10, kernel_size=5)self.conv2 = nn.Conv2d(10, 20, kernel_size=5)\n",
        "        \n",
        "    def __init__(self):\n",
        "        super(Net, self).__init__()\n",
        "        self.conv1 = nn.Conv2d(1, 10, kernel_size=5) \n",
        "        self.conv2 = nn.Conv2d(10, 20, kernel_size=5) \n",
        "        self.conv2_drop = nn.Dropout2d()\n",
        "        self.fc1 = nn.Linear(320, 50)\n",
        "        self.fc2 = nn.Linear(50, 10)\n",
        "\n",
        "    def forward(self, x):\n",
        "#         print(\"1\", x.shape)\n",
        "        #28x28x1\n",
        "        x = F.relu(F.max_pool2d(self.conv1(x), 2))#12x12x10\n",
        "#         print(\"2\", x.shape)\n",
        "        x = F.relu(F.max_pool2d(self.conv2_drop(self.conv2(x)), 2))#4x4x20\n",
        "#         print(\"3\", x.shape)\n",
        "        x = x.view(-1, 320)\n",
        "#         print(\"4\", x.shape)\n",
        "        x = F.relu(self.fc1(x))\n",
        "        x = F.dropout(x, training=self.training)\n",
        "        x = self.fc2(x)\n",
        "        return F.log_softmax(x)\n",
        "\n",
        "use_cuda = torch.cuda.is_available()\n",
        "device = torch.device(\"cuda\" if use_cuda else \"cpu\")\n",
        "model_cnn = Net().to(device)"
      ],
      "execution_count": 0,
      "outputs": []
    },
    {
      "cell_type": "code",
      "metadata": {
        "id": "25XCh4XPXLzf",
        "colab_type": "code",
        "colab": {}
      },
      "source": [
        "#train our model\n",
        "def train( model, device, train_loader, optimizer, epoch):\n",
        "    model.train()\n",
        "    for batch_idx, (data, target) in enumerate(train_loader):\n",
        "        data, target = data.to(device), target.to(device)\n",
        "        optimizer.zero_grad()\n",
        "        output = model(data)\n",
        "        loss = F.nll_loss(output, target)\n",
        "        loss.backward()\n",
        "        optimizer.step()\n",
        "        if batch_idx % log_interval == 0:\n",
        "            print('Train Epoch: {} [{}/{} ({:.0f}%)]\\tLoss: {:.6f}'.format(\n",
        "                epoch, batch_idx * len(data), len(train_loader.dataset),\n",
        "                       100. * batch_idx / len(train_loader), loss.item()))\n",
        "            \n",
        "        \n"
      ],
      "execution_count": 0,
      "outputs": []
    },
    {
      "cell_type": "code",
      "metadata": {
        "id": "aDEL7vzcY-0P",
        "colab_type": "code",
        "colab": {}
      },
      "source": [
        "def test( model, device, test_loader):\n",
        "    model.eval()\n",
        "    test_loss = 0\n",
        "    correct = 0\n",
        "    with torch.no_grad():\n",
        "        for data, target in test_loader:\n",
        "            data, target = data.to(device), target.to(device)\n",
        "            output = model(data)\n",
        "            test_loss += F.nll_loss(output, target, reduction='sum').item()  # sum up batch loss\n",
        "            pred = output.argmax(dim=1, keepdim=True)  # get the index of the max log-probability\n",
        "            correct += pred.eq(target.view_as(pred)).sum().item()\n",
        "\n",
        "    test_loss /= len(test_loader.dataset)\n",
        "\n",
        "    print('\\nTest set: Average loss: {:.4f}, Accuracy: {}/{} ({:.2f}%)\\n'.format(\n",
        "        test_loss, correct, len(test_loader.dataset),\n",
        "        100. * correct / len(test_loader.dataset)))"
      ],
      "execution_count": 0,
      "outputs": []
    },
    {
      "cell_type": "code",
      "metadata": {
        "id": "MMYb8FmoabTi",
        "colab_type": "code",
        "colab": {
          "base_uri": "https://localhost:8080/",
          "height": 1000
        },
        "outputId": "5e4baf2c-672f-42da-aebb-ac4a4a80ce74"
      },
      "source": [
        "epochs = 10\n",
        "lr = 0.01\n",
        "momentum = 0.5\n",
        "log_interval = 700\n",
        "\n",
        "model = model_cnn\n",
        "optimizer = optim.SGD(model.parameters(), lr=lr, momentum=momentum)\n",
        "\n",
        "\n",
        "for epoch in range(1, epochs + 1):\n",
        "    train(model, device, train_loader, optimizer, epoch)\n",
        "    test(model, device, test_loader)\n",
        "\n",
        "\n",
        "    torch.save(model.state_dict(), \"sv_inno.pt\")"
      ],
      "execution_count": 27,
      "outputs": [
        {
          "output_type": "stream",
          "text": [
            "/usr/local/lib/python3.6/dist-packages/ipykernel_launcher.py:24: UserWarning: Implicit dimension choice for log_softmax has been deprecated. Change the call to include dim=X as an argument.\n"
          ],
          "name": "stderr"
        },
        {
          "output_type": "stream",
          "text": [
            "Train Epoch: 1 [0/73257 (0%)]\tLoss: 2.306124\n",
            "Train Epoch: 1 [22400/73257 (31%)]\tLoss: 2.252903\n",
            "Train Epoch: 1 [44800/73257 (61%)]\tLoss: 2.157453\n",
            "Train Epoch: 1 [67200/73257 (92%)]\tLoss: 1.843431\n",
            "\n",
            "Test set: Average loss: 2.2648, Accuracy: 3259/10000 (32.59%)\n",
            "\n",
            "Train Epoch: 2 [0/73257 (0%)]\tLoss: 1.699224\n",
            "Train Epoch: 2 [22400/73257 (31%)]\tLoss: 1.145149\n",
            "Train Epoch: 2 [44800/73257 (61%)]\tLoss: 1.148265\n",
            "Train Epoch: 2 [67200/73257 (92%)]\tLoss: 0.963224\n",
            "\n",
            "Test set: Average loss: 2.1584, Accuracy: 5576/10000 (55.76%)\n",
            "\n",
            "Train Epoch: 3 [0/73257 (0%)]\tLoss: 1.009073\n",
            "Train Epoch: 3 [22400/73257 (31%)]\tLoss: 0.802172\n",
            "Train Epoch: 3 [44800/73257 (61%)]\tLoss: 1.042818\n",
            "Train Epoch: 3 [67200/73257 (92%)]\tLoss: 0.746934\n",
            "\n",
            "Test set: Average loss: 2.2073, Accuracy: 6220/10000 (62.20%)\n",
            "\n",
            "Train Epoch: 4 [0/73257 (0%)]\tLoss: 0.537283\n",
            "Train Epoch: 4 [22400/73257 (31%)]\tLoss: 1.047944\n",
            "Train Epoch: 4 [44800/73257 (61%)]\tLoss: 0.654901\n",
            "Train Epoch: 4 [67200/73257 (92%)]\tLoss: 1.121510\n",
            "\n",
            "Test set: Average loss: 2.2379, Accuracy: 5808/10000 (58.08%)\n",
            "\n",
            "Train Epoch: 5 [0/73257 (0%)]\tLoss: 1.108346\n",
            "Train Epoch: 5 [22400/73257 (31%)]\tLoss: 1.284157\n",
            "Train Epoch: 5 [44800/73257 (61%)]\tLoss: 0.958301\n",
            "Train Epoch: 5 [67200/73257 (92%)]\tLoss: 0.632242\n",
            "\n",
            "Test set: Average loss: 1.9297, Accuracy: 6154/10000 (61.54%)\n",
            "\n",
            "Train Epoch: 6 [0/73257 (0%)]\tLoss: 1.071676\n",
            "Train Epoch: 6 [22400/73257 (31%)]\tLoss: 0.900543\n",
            "Train Epoch: 6 [44800/73257 (61%)]\tLoss: 0.548131\n",
            "Train Epoch: 6 [67200/73257 (92%)]\tLoss: 0.695432\n",
            "\n",
            "Test set: Average loss: 2.1063, Accuracy: 6201/10000 (62.01%)\n",
            "\n",
            "Train Epoch: 7 [0/73257 (0%)]\tLoss: 0.777378\n",
            "Train Epoch: 7 [22400/73257 (31%)]\tLoss: 0.615065\n",
            "Train Epoch: 7 [44800/73257 (61%)]\tLoss: 0.846899\n",
            "Train Epoch: 7 [67200/73257 (92%)]\tLoss: 0.562487\n",
            "\n",
            "Test set: Average loss: 2.2315, Accuracy: 5823/10000 (58.23%)\n",
            "\n",
            "Train Epoch: 8 [0/73257 (0%)]\tLoss: 0.463229\n",
            "Train Epoch: 8 [22400/73257 (31%)]\tLoss: 0.708185\n",
            "Train Epoch: 8 [44800/73257 (61%)]\tLoss: 0.726969\n",
            "Train Epoch: 8 [67200/73257 (92%)]\tLoss: 0.740045\n",
            "\n",
            "Test set: Average loss: 2.1423, Accuracy: 5652/10000 (56.52%)\n",
            "\n",
            "Train Epoch: 9 [0/73257 (0%)]\tLoss: 0.790855\n",
            "Train Epoch: 9 [22400/73257 (31%)]\tLoss: 0.712206\n",
            "Train Epoch: 9 [44800/73257 (61%)]\tLoss: 0.504986\n",
            "Train Epoch: 9 [67200/73257 (92%)]\tLoss: 0.795173\n",
            "\n",
            "Test set: Average loss: 2.0799, Accuracy: 5892/10000 (58.92%)\n",
            "\n",
            "Train Epoch: 10 [0/73257 (0%)]\tLoss: 0.619951\n",
            "Train Epoch: 10 [22400/73257 (31%)]\tLoss: 0.634546\n",
            "Train Epoch: 10 [44800/73257 (61%)]\tLoss: 0.814057\n",
            "Train Epoch: 10 [67200/73257 (92%)]\tLoss: 0.856529\n",
            "\n",
            "Test set: Average loss: 2.4935, Accuracy: 6043/10000 (60.43%)\n",
            "\n"
          ],
          "name": "stdout"
        }
      ]
    }
  ]
}