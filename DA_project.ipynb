{
  "nbformat": 4,
  "nbformat_minor": 0,
  "metadata": {
    "colab": {
      "name": "DA_project",
      "provenance": [],
      "include_colab_link": true
    },
    "kernelspec": {
      "name": "python3",
      "display_name": "Python 3"
    }
  },
  "cells": [
    {
      "cell_type": "markdown",
      "metadata": {
        "id": "view-in-github",
        "colab_type": "text"
      },
      "source": [
        "<a href=\"https://colab.research.google.com/github/MostafaAhmed95/D_A/blob/master/DA_project.ipynb\" target=\"_parent\"><img src=\"https://colab.research.google.com/assets/colab-badge.svg\" alt=\"Open In Colab\"/></a>"
      ]
    },
    {
      "cell_type": "code",
      "metadata": {
        "id": "FxnLbblF1Tu8",
        "colab_type": "code",
        "colab": {}
      },
      "source": [
        "import torch\n",
        "import torch.nn as nn\n",
        "import torch.nn.functional as F\n",
        "import torch.optim as optim\n",
        "from torchvision import datasets, transforms\n",
        "from torch. utils.data import DataLoader\n",
        "import matplotlib.pyplot as plt\n",
        "%matplotlib inline"
      ],
      "execution_count": 0,
      "outputs": []
    },
    {
      "cell_type": "code",
      "metadata": {
        "id": "GRqr-56v184c",
        "colab_type": "code",
        "outputId": "01332b25-0648-4c11-c66d-85e1bea061b2",
        "colab": {
          "base_uri": "https://localhost:8080/",
          "height": 130
        }
      },
      "source": [
        "batch_size = 32\n",
        "test_batch_size = 100\n",
        "torch.manual_seed(0)\n",
        "torch.backends.cudnn.deterministic = True\n",
        "torch.backends.cudnn.benchmark = False\n",
        "# Transformations\n",
        "data_transformations = transforms.Compose([\n",
        "                           transforms.Grayscale(num_output_channels=1),\n",
        "                           transforms.Scale((28,28)),\n",
        "                           transforms.ToTensor(),\n",
        "                           transforms.Normalize((0.1307,), (0.3081,))\n",
        "                       ])\n",
        "\n",
        "# Data Source\n",
        "svhn = datasets.SVHN('../data', download=True, transform=data_transformations)\n",
        "svhn_test = datasets.SVHN('../data', split='test', download=True, transform=data_transformations)\n",
        "mnist_test = datasets.MNIST('../data', train=False,transform=data_transformations, download=True)\n",
        "\n",
        "\n",
        "# Data loaders\n",
        "train_loader = DataLoader(svhn,\n",
        "                          batch_size=batch_size, shuffle=True)\n",
        "test_loader = DataLoader(svhn_test,\n",
        "                         batch_size=test_batch_size, shuffle=True)"
      ],
      "execution_count": 9,
      "outputs": [
        {
          "output_type": "stream",
          "text": [
            "/usr/local/lib/python3.6/dist-packages/torchvision/transforms/transforms.py:211: UserWarning: The use of the transforms.Scale transform is deprecated, please use transforms.Resize instead.\n",
            "  \"please use transforms.Resize instead.\")\n"
          ],
          "name": "stderr"
        },
        {
          "output_type": "stream",
          "text": [
            "Using downloaded and verified file: ../data/train_32x32.mat\n"
          ],
          "name": "stdout"
        },
        {
          "output_type": "stream",
          "text": [
            "\r0it [00:00, ?it/s]"
          ],
          "name": "stderr"
        },
        {
          "output_type": "stream",
          "text": [
            "Downloading http://ufldl.stanford.edu/housenumbers/test_32x32.mat to ../data/test_32x32.mat\n"
          ],
          "name": "stdout"
        },
        {
          "output_type": "stream",
          "text": [
            "64282624it [00:05, 12817964.90it/s]                              \n"
          ],
          "name": "stderr"
        }
      ]
    },
    {
      "cell_type": "code",
      "metadata": {
        "id": "KY-qNjVpMNC9",
        "colab_type": "code",
        "outputId": "cc4f5068-41e8-48f8-e68d-e67b2fb6554a",
        "colab": {
          "base_uri": "https://localhost:8080/",
          "height": 284
        }
      },
      "source": [
        "batch,labels = next(iter(train_loader))\n",
        "image = batch[0]\n",
        "np_image = image.data.numpy()\n",
        "print(np_image.shape)\n",
        "plt.imshow(np_image[0],cmap='gray')\n",
        "plt.show()"
      ],
      "execution_count": 10,
      "outputs": [
        {
          "output_type": "stream",
          "text": [
            "(1, 28, 28)\n"
          ],
          "name": "stdout"
        },
        {
          "output_type": "display_data",
          "data": {
            "image/png": "[encoded data removed]",
            "text/plain": [
              "<Figure size 432x288 with 1 Axes>"
            ]
          },
          "metadata": {
            "tags": []
          }
        }
      ]
    },
    {
      "cell_type": "code",
      "metadata": {
        "id": "eqvUmdQVTN3K",
        "colab_type": "code",
        "colab": {}
      },
      "source": [
        "class Net(nn.Module):#This defines the structure of the NN.def __init__(self):super(Net, self).__init__()\n",
        "        # These are all operations that we are defining.# Unlike keras, this is not the network definition.# This is just initialization of the variables that # we are going to use in the `forward()` function.self.conv1 = nn.Conv2d(1, 10, kernel_size=5)self.conv2 = nn.Conv2d(10, 20, kernel_size=5)\n",
        "        \n",
        "    def __init__(self):\n",
        "        super(Net, self).__init__()\n",
        "        self.conv1 = nn.Conv2d(1, 10, kernel_size=5) \n",
        "        self.conv2 = nn.Conv2d(10, 20, kernel_size=5) \n",
        "        self.conv2_drop = nn.Dropout2d()\n",
        "        self.fc1 = nn.Linear(320, 50)\n",
        "        self.fc2 = nn.Linear(50, 10)\n",
        "\n",
        "    def forward(self, x):\n",
        "#         print(\"1\", x.shape)\n",
        "        #28x28x1\n",
        "        x = F.relu(F.max_pool2d(self.conv1(x), 2))#12x12x10\n",
        "#         print(\"2\", x.shape)\n",
        "        x = F.relu(F.max_pool2d(self.conv2_drop(self.conv2(x)), 2))#4x4x20\n",
        "#         print(\"3\", x.shape)\n",
        "        x = x.view(-1, 320)\n",
        "#         print(\"4\", x.shape)\n",
        "        x = F.relu(self.fc1(x))\n",
        "        x = F.dropout(x, training=self.training)\n",
        "        x = self.fc2(x)\n",
        "        return F.log_softmax(x)\n",
        "\n",
        "use_cuda = torch.cuda.is_available()\n",
        "device = torch.device(\"cuda\" if use_cuda else \"cpu\")\n",
        "model_cnn = Net().to(device)"
      ],
      "execution_count": 0,
      "outputs": []
    },
    {
      "cell_type": "code",
      "metadata": {
        "id": "25XCh4XPXLzf",
        "colab_type": "code",
        "colab": {}
      },
      "source": [
        "#train our model\n",
        "def train( model, device, train_loader, optimizer, epoch):\n",
        "    model.train()\n",
        "    for batch_idx, (data, target) in enumerate(train_loader):\n",
        "        data, target = data.to(device), target.to(device)\n",
        "        optimizer.zero_grad()\n",
        "        output = model(data)\n",
        "        loss = F.nll_loss(output, target)\n",
        "        loss.backward()\n",
        "        optimizer.step()\n",
        "        if batch_idx % log_interval == 0:\n",
        "            print('Train Epoch: {} [{}/{} ({:.0f}%)]\\tLoss: {:.6f}'.format(\n",
        "                epoch, batch_idx * len(data), len(train_loader.dataset),\n",
        "                       100. * batch_idx / len(train_loader), loss.item()))\n",
        "            \n",
        "        \n"
      ],
      "execution_count": 0,
      "outputs": []
    },
    {
      "cell_type": "code",
      "metadata": {
        "id": "aDEL7vzcY-0P",
        "colab_type": "code",
        "colab": {}
      },
      "source": [
        "def test( model, device, test_loader):\n",
        "    model.eval()\n",
        "    test_loss = 0\n",
        "    correct = 0\n",
        "    with torch.no_grad():\n",
        "        for data, target in test_loader:\n",
        "            data, target = data.to(device), target.to(device)\n",
        "            output = model(data)\n",
        "            test_loss += F.nll_loss(output, target, reduction='sum').item()  # sum up batch loss\n",
        "            pred = output.argmax(dim=1, keepdim=True)  # get the index of the max log-probability\n",
        "            correct += pred.eq(target.view_as(pred)).sum().item()\n",
        "\n",
        "    test_loss /= len(test_loader.dataset)\n",
        "\n",
        "    print('\\nTest set: Average loss: {:.4f}, Accuracy: {}/{} ({:.2f}%)\\n'.format(\n",
        "        test_loss, correct, len(test_loader.dataset),\n",
        "        100. * correct / len(test_loader.dataset)))"
      ],
      "execution_count": 0,
      "outputs": []
    },
    {
      "cell_type": "code",
      "metadata": {
        "id": "MMYb8FmoabTi",
        "colab_type": "code",
        "outputId": "3845723c-2f0f-48d8-9564-39ee6ab40116",
        "colab": {
          "base_uri": "https://localhost:8080/",
          "height": 1000
        }
      },
      "source": [
        "epochs = 10\n",
        "lr = 0.01\n",
        "momentum = 0.5\n",
        "log_interval = 700\n",
        "\n",
        "model = model_cnn\n",
        "optimizer = optim.SGD(model.parameters(), lr=lr, momentum=momentum)\n",
        "\n",
        "\n",
        "for epoch in range(1, epochs + 1):\n",
        "    train(model, device, train_loader, optimizer, epoch)\n",
        "    test(model, device, test_loader)\n",
        "\n",
        "\n",
        "    torch.save(model.state_dict(), \"sv_inno.pt\")"
      ],
      "execution_count": 14,
      "outputs": [
        {
          "output_type": "stream",
          "text": [
            "/usr/local/lib/python3.6/dist-packages/ipykernel_launcher.py:24: UserWarning: Implicit dimension choice for log_softmax has been deprecated. Change the call to include dim=X as an argument.\n"
          ],
          "name": "stderr"
        },
        {
          "output_type": "stream",
          "text": [
            "Train Epoch: 1 [0/73257 (0%)]\tLoss: 2.338785\n",
            "Train Epoch: 1 [22400/73257 (31%)]\tLoss: 2.161071\n",
            "Train Epoch: 1 [44800/73257 (61%)]\tLoss: 2.246932\n",
            "Train Epoch: 1 [67200/73257 (92%)]\tLoss: 1.942676\n",
            "\n",
            "Test set: Average loss: 1.5680, Accuracy: 13850/26032 (53.20%)\n",
            "\n",
            "Train Epoch: 2 [0/73257 (0%)]\tLoss: 1.920066\n",
            "Train Epoch: 2 [22400/73257 (31%)]\tLoss: 1.271995\n",
            "Train Epoch: 2 [44800/73257 (61%)]\tLoss: 1.535981\n",
            "Train Epoch: 2 [67200/73257 (92%)]\tLoss: 0.914516\n",
            "\n",
            "Test set: Average loss: 0.8441, Accuracy: 20098/26032 (77.20%)\n",
            "\n",
            "Train Epoch: 3 [0/73257 (0%)]\tLoss: 1.499970\n",
            "Train Epoch: 3 [22400/73257 (31%)]\tLoss: 1.015271\n",
            "Train Epoch: 3 [44800/73257 (61%)]\tLoss: 0.750436\n",
            "Train Epoch: 3 [67200/73257 (92%)]\tLoss: 1.222007\n",
            "\n",
            "Test set: Average loss: 0.7350, Accuracy: 20863/26032 (80.14%)\n",
            "\n",
            "Train Epoch: 4 [0/73257 (0%)]\tLoss: 0.678391\n",
            "Train Epoch: 4 [22400/73257 (31%)]\tLoss: 1.117928\n",
            "Train Epoch: 4 [44800/73257 (61%)]\tLoss: 0.572010\n",
            "Train Epoch: 4 [67200/73257 (92%)]\tLoss: 1.001003\n",
            "\n",
            "Test set: Average loss: 0.6583, Accuracy: 21106/26032 (81.08%)\n",
            "\n",
            "Train Epoch: 5 [0/73257 (0%)]\tLoss: 0.888474\n",
            "Train Epoch: 5 [22400/73257 (31%)]\tLoss: 1.441026\n",
            "Train Epoch: 5 [44800/73257 (61%)]\tLoss: 1.366565\n",
            "Train Epoch: 5 [67200/73257 (92%)]\tLoss: 1.048230\n",
            "\n",
            "Test set: Average loss: 0.6596, Accuracy: 21017/26032 (80.74%)\n",
            "\n",
            "Train Epoch: 6 [0/73257 (0%)]\tLoss: 0.720828\n",
            "Train Epoch: 6 [22400/73257 (31%)]\tLoss: 0.596468\n",
            "Train Epoch: 6 [44800/73257 (61%)]\tLoss: 0.737068\n",
            "Train Epoch: 6 [67200/73257 (92%)]\tLoss: 1.369749\n",
            "\n",
            "Test set: Average loss: 0.6331, Accuracy: 21276/26032 (81.73%)\n",
            "\n",
            "Train Epoch: 7 [0/73257 (0%)]\tLoss: 0.853000\n",
            "Train Epoch: 7 [22400/73257 (31%)]\tLoss: 0.840043\n",
            "Train Epoch: 7 [44800/73257 (61%)]\tLoss: 1.067279\n",
            "Train Epoch: 7 [67200/73257 (92%)]\tLoss: 0.744797\n",
            "\n",
            "Test set: Average loss: 0.6521, Accuracy: 21156/26032 (81.27%)\n",
            "\n",
            "Train Epoch: 8 [0/73257 (0%)]\tLoss: 1.079593\n",
            "Train Epoch: 8 [22400/73257 (31%)]\tLoss: 0.593148\n",
            "Train Epoch: 8 [44800/73257 (61%)]\tLoss: 0.703786\n",
            "Train Epoch: 8 [67200/73257 (92%)]\tLoss: 0.932255\n",
            "\n",
            "Test set: Average loss: 0.5867, Accuracy: 21632/26032 (83.10%)\n",
            "\n",
            "Train Epoch: 9 [0/73257 (0%)]\tLoss: 0.577959\n",
            "Train Epoch: 9 [22400/73257 (31%)]\tLoss: 1.195690\n",
            "Train Epoch: 9 [44800/73257 (61%)]\tLoss: 1.596556\n",
            "Train Epoch: 9 [67200/73257 (92%)]\tLoss: 0.889547\n",
            "\n",
            "Test set: Average loss: 0.5922, Accuracy: 21476/26032 (82.50%)\n",
            "\n",
            "Train Epoch: 10 [0/73257 (0%)]\tLoss: 0.923253\n",
            "Train Epoch: 10 [22400/73257 (31%)]\tLoss: 0.879222\n",
            "Train Epoch: 10 [44800/73257 (61%)]\tLoss: 0.626817\n",
            "Train Epoch: 10 [67200/73257 (92%)]\tLoss: 0.845324\n",
            "\n",
            "Test set: Average loss: 0.5895, Accuracy: 21605/26032 (82.99%)\n",
            "\n"
          ],
          "name": "stdout"
        }
      ]
    }
  ]
}